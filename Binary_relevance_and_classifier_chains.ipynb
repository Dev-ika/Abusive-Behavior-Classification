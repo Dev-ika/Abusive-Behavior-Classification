{
  "cells": [
    {
      "cell_type": "markdown",
      "metadata": {
        "id": "view-in-github",
        "colab_type": "text"
      },
      "source": [
        "<a href=\"https://colab.research.google.com/github/Dev-ika/Abusive-Behavior-Classification/blob/main/Binary_relevance_and_classifier_chains.ipynb\" target=\"_parent\"><img src=\"https://colab.research.google.com/assets/colab-badge.svg\" alt=\"Open In Colab\"/></a>"
      ]
    },
    {
      "cell_type": "code",
      "execution_count": null,
      "metadata": {
        "id": "EWscITl1PrE_"
      },
      "outputs": [],
      "source": [
        "import numpy as np\n",
        "import pandas as pd\n",
        "from matplotlib import pyplot as plt\n",
        "%matplotlib inline\n",
        "import seaborn as sns\n",
        "import re"
      ]
    },
    {
      "cell_type": "markdown",
      "metadata": {
        "_cell_guid": "80d61838-9025-4cba-bb0e-58175586b21b",
        "_uuid": "4f65d03ddbfd127307d3e415003346eb898b4d6b",
        "id": "vqhCp_4LPrFB"
      },
      "source": [
        "## Load training and test data"
      ]
    },
    {
      "cell_type": "code",
      "execution_count": null,
      "metadata": {
        "_cell_guid": "094fff47-db10-447c-965e-08056f718bde",
        "_uuid": "4e35cd5fcae1581dbd6bc51f14728e27fe63fe70",
        "id": "lKx147HgPrFC"
      },
      "outputs": [],
      "source": [
        "train_df = pd.read_csv('../inputs/train.csv')\n",
        "test_df = pd.read_csv('../inputs/Realtimedatabasetest.csv')"
      ]
    },
    {
      "cell_type": "markdown",
      "metadata": {
        "_cell_guid": "09986b08-eda6-4438-9cbe-52a61d8d57fa",
        "_uuid": "89d1c9a4f9598427e8a20d66fa9e56796ad720f6",
        "id": "uUxXvPxBPrFD"
      },
      "source": [
        "## Examine the data (EDA)"
      ]
    },
    {
      "cell_type": "code",
      "execution_count": null,
      "metadata": {
        "_cell_guid": "c4c7137d-6bc7-4b41-b50a-e511883155e9",
        "_kg_hide-output": true,
        "_uuid": "9e53b7599d707a9420a75c37c7ac6d05bed9df7b",
        "id": "93Gr73hUPrFD",
        "outputId": "5fc3954d-1057-45f1-d360-9b1b20a58cce"
      },
      "outputs": [
        {
          "data": {
            "text/html": [
              "<div>\n",
              "<style scoped>\n",
              "    .dataframe tbody tr th:only-of-type {\n",
              "        vertical-align: middle;\n",
              "    }\n",
              "\n",
              "    .dataframe tbody tr th {\n",
              "        vertical-align: top;\n",
              "    }\n",
              "\n",
              "    .dataframe thead th {\n",
              "        text-align: right;\n",
              "    }\n",
              "</style>\n",
              "<table border=\"1\" class=\"dataframe\">\n",
              "  <thead>\n",
              "    <tr style=\"text-align: right;\">\n",
              "      <th></th>\n",
              "      <th>id</th>\n",
              "      <th>comment_text</th>\n",
              "      <th>toxic</th>\n",
              "      <th>severe_toxic</th>\n",
              "      <th>obscene</th>\n",
              "      <th>threat</th>\n",
              "      <th>insult</th>\n",
              "      <th>identity_hate</th>\n",
              "    </tr>\n",
              "  </thead>\n",
              "  <tbody>\n",
              "    <tr>\n",
              "      <th>76688</th>\n",
              "      <td>cd624c6112976613</td>\n",
              "      <td>As I have declared earlier, I have no interest...</td>\n",
              "      <td>0</td>\n",
              "      <td>0</td>\n",
              "      <td>0</td>\n",
              "      <td>0</td>\n",
              "      <td>0</td>\n",
              "      <td>0</td>\n",
              "    </tr>\n",
              "    <tr>\n",
              "      <th>30328</th>\n",
              "      <td>50843e0ffc5bfe37</td>\n",
              "      <td>This is a consequence of the fact that the art...</td>\n",
              "      <td>0</td>\n",
              "      <td>0</td>\n",
              "      <td>0</td>\n",
              "      <td>0</td>\n",
              "      <td>0</td>\n",
              "      <td>0</td>\n",
              "    </tr>\n",
              "    <tr>\n",
              "      <th>146427</th>\n",
              "      <td>2bf678447938f07f</td>\n",
              "      <td>\"\\n\\nWarning: Editing Aguri (caste) - Gross vi...</td>\n",
              "      <td>0</td>\n",
              "      <td>0</td>\n",
              "      <td>0</td>\n",
              "      <td>0</td>\n",
              "      <td>0</td>\n",
              "      <td>0</td>\n",
              "    </tr>\n",
              "    <tr>\n",
              "      <th>38885</th>\n",
              "      <td>67c342f9ff8c9e3a</td>\n",
              "      <td>Reverting a link with spam is a double standar...</td>\n",
              "      <td>1</td>\n",
              "      <td>0</td>\n",
              "      <td>0</td>\n",
              "      <td>0</td>\n",
              "      <td>0</td>\n",
              "      <td>0</td>\n",
              "    </tr>\n",
              "    <tr>\n",
              "      <th>152372</th>\n",
              "      <td>8c478b1db65f720e</td>\n",
              "      <td>\"\\n\\nNASTRO\\nHelo Headbomb, I am somewhat conc...</td>\n",
              "      <td>0</td>\n",
              "      <td>0</td>\n",
              "      <td>0</td>\n",
              "      <td>0</td>\n",
              "      <td>0</td>\n",
              "      <td>0</td>\n",
              "    </tr>\n",
              "  </tbody>\n",
              "</table>\n",
              "</div>"
            ],
            "text/plain": [
              "                      id                                       comment_text  \\\n",
              "76688   cd624c6112976613  As I have declared earlier, I have no interest...   \n",
              "30328   50843e0ffc5bfe37  This is a consequence of the fact that the art...   \n",
              "146427  2bf678447938f07f  \"\\n\\nWarning: Editing Aguri (caste) - Gross vi...   \n",
              "38885   67c342f9ff8c9e3a  Reverting a link with spam is a double standar...   \n",
              "152372  8c478b1db65f720e  \"\\n\\nNASTRO\\nHelo Headbomb, I am somewhat conc...   \n",
              "\n",
              "        toxic  severe_toxic  obscene  threat  insult  identity_hate  \n",
              "76688       0             0        0       0       0              0  \n",
              "30328       0             0        0       0       0              0  \n",
              "146427      0             0        0       0       0              0  \n",
              "38885       1             0        0       0       0              0  \n",
              "152372      0             0        0       0       0              0  "
            ]
          },
          "execution_count": 45,
          "metadata": {},
          "output_type": "execute_result"
        }
      ],
      "source": [
        "train_df.sample(5)"
      ]
    },
    {
      "cell_type": "markdown",
      "metadata": {
        "_cell_guid": "40597119-1274-4d5b-a054-b4b17dbcbb36",
        "_uuid": "6c824d91ae1e801e1489e93e1a9932c8c0cb0e0a",
        "id": "TGaNoQg5PrFE"
      },
      "source": [
        "In the training data, the comments are labelled as one or more of the six categories; toxic, severe toxic, obscene, threat, insult and identity hate. This is essentially a multi-label classification problem."
      ]
    },
    {
      "cell_type": "code",
      "execution_count": null,
      "metadata": {
        "_cell_guid": "8f6a95ee-cc95-4c9f-a8f7-72ae58ec13d6",
        "_uuid": "5c5f4cc8865644748e11336736bbe584adebe7b1",
        "id": "KUlqgX4lPrFE"
      },
      "outputs": [],
      "source": [
        "import numpy as np\n",
        "import pandas as pd\n",
        "from matplotlib import pyplot as plt\n",
        "%matplotlib inline\n",
        "import seaborn as sns\n",
        "import re"
      ]
    },
    {
      "cell_type": "code",
      "execution_count": null,
      "metadata": {
        "_cell_guid": "7e29bebb-d9b7-44ab-a6ba-9f98e6507d5e",
        "_uuid": "7f7f2581edb2f42a64812dec31622a011dceff80",
        "id": "WDJk0wcUPrFE"
      },
      "outputs": [],
      "source": [
        "cols_target = ['obscene','insult','toxic','severe_toxic','identity_hate','threat']"
      ]
    },
    {
      "cell_type": "code",
      "execution_count": null,
      "metadata": {
        "_cell_guid": "ce00e980-da07-4412-ae4c-5152cc2036e0",
        "_uuid": "e4a226272e319458391e117e8fb7f16b17c4884f",
        "id": "urK_2ixEPrFE",
        "outputId": "b36da796-44b4-4701-9919-210c6764661b"
      },
      "outputs": [
        {
          "data": {
            "text/html": [
              "<div>\n",
              "<style scoped>\n",
              "    .dataframe tbody tr th:only-of-type {\n",
              "        vertical-align: middle;\n",
              "    }\n",
              "\n",
              "    .dataframe tbody tr th {\n",
              "        vertical-align: top;\n",
              "    }\n",
              "\n",
              "    .dataframe thead th {\n",
              "        text-align: right;\n",
              "    }\n",
              "</style>\n",
              "<table border=\"1\" class=\"dataframe\">\n",
              "  <thead>\n",
              "    <tr style=\"text-align: right;\">\n",
              "      <th></th>\n",
              "      <th>toxic</th>\n",
              "      <th>severe_toxic</th>\n",
              "      <th>obscene</th>\n",
              "      <th>threat</th>\n",
              "      <th>insult</th>\n",
              "      <th>identity_hate</th>\n",
              "    </tr>\n",
              "  </thead>\n",
              "  <tbody>\n",
              "    <tr>\n",
              "      <th>count</th>\n",
              "      <td>159571.000000</td>\n",
              "      <td>159571.000000</td>\n",
              "      <td>159571.000000</td>\n",
              "      <td>159571.000000</td>\n",
              "      <td>159571.000000</td>\n",
              "      <td>159571.000000</td>\n",
              "    </tr>\n",
              "    <tr>\n",
              "      <th>mean</th>\n",
              "      <td>0.095844</td>\n",
              "      <td>0.009996</td>\n",
              "      <td>0.052948</td>\n",
              "      <td>0.002996</td>\n",
              "      <td>0.049364</td>\n",
              "      <td>0.008805</td>\n",
              "    </tr>\n",
              "    <tr>\n",
              "      <th>std</th>\n",
              "      <td>0.294379</td>\n",
              "      <td>0.099477</td>\n",
              "      <td>0.223931</td>\n",
              "      <td>0.054650</td>\n",
              "      <td>0.216627</td>\n",
              "      <td>0.093420</td>\n",
              "    </tr>\n",
              "    <tr>\n",
              "      <th>min</th>\n",
              "      <td>0.000000</td>\n",
              "      <td>0.000000</td>\n",
              "      <td>0.000000</td>\n",
              "      <td>0.000000</td>\n",
              "      <td>0.000000</td>\n",
              "      <td>0.000000</td>\n",
              "    </tr>\n",
              "    <tr>\n",
              "      <th>25%</th>\n",
              "      <td>0.000000</td>\n",
              "      <td>0.000000</td>\n",
              "      <td>0.000000</td>\n",
              "      <td>0.000000</td>\n",
              "      <td>0.000000</td>\n",
              "      <td>0.000000</td>\n",
              "    </tr>\n",
              "    <tr>\n",
              "      <th>50%</th>\n",
              "      <td>0.000000</td>\n",
              "      <td>0.000000</td>\n",
              "      <td>0.000000</td>\n",
              "      <td>0.000000</td>\n",
              "      <td>0.000000</td>\n",
              "      <td>0.000000</td>\n",
              "    </tr>\n",
              "    <tr>\n",
              "      <th>75%</th>\n",
              "      <td>0.000000</td>\n",
              "      <td>0.000000</td>\n",
              "      <td>0.000000</td>\n",
              "      <td>0.000000</td>\n",
              "      <td>0.000000</td>\n",
              "      <td>0.000000</td>\n",
              "    </tr>\n",
              "    <tr>\n",
              "      <th>max</th>\n",
              "      <td>1.000000</td>\n",
              "      <td>1.000000</td>\n",
              "      <td>1.000000</td>\n",
              "      <td>1.000000</td>\n",
              "      <td>1.000000</td>\n",
              "      <td>1.000000</td>\n",
              "    </tr>\n",
              "  </tbody>\n",
              "</table>\n",
              "</div>"
            ],
            "text/plain": [
              "               toxic   severe_toxic        obscene         threat  \\\n",
              "count  159571.000000  159571.000000  159571.000000  159571.000000   \n",
              "mean        0.095844       0.009996       0.052948       0.002996   \n",
              "std         0.294379       0.099477       0.223931       0.054650   \n",
              "min         0.000000       0.000000       0.000000       0.000000   \n",
              "25%         0.000000       0.000000       0.000000       0.000000   \n",
              "50%         0.000000       0.000000       0.000000       0.000000   \n",
              "75%         0.000000       0.000000       0.000000       0.000000   \n",
              "max         1.000000       1.000000       1.000000       1.000000   \n",
              "\n",
              "              insult  identity_hate  \n",
              "count  159571.000000  159571.000000  \n",
              "mean        0.049364       0.008805  \n",
              "std         0.216627       0.093420  \n",
              "min         0.000000       0.000000  \n",
              "25%         0.000000       0.000000  \n",
              "50%         0.000000       0.000000  \n",
              "75%         0.000000       0.000000  \n",
              "max         1.000000       1.000000  "
            ]
          },
          "execution_count": 48,
          "metadata": {},
          "output_type": "execute_result"
        }
      ],
      "source": [
        "# check missing values in numeric columns\n",
        "train_df.describe()"
      ]
    },
    {
      "cell_type": "markdown",
      "metadata": {
        "_cell_guid": "b2be6443-eb4e-4e12-81b3-faf2ea692ca4",
        "_uuid": "474f4cf26190a2f2011ca0908052973fec1b1520",
        "id": "tGRQ3JQ5PrFF"
      },
      "source": [
        "There are no missing numeric values. Based on the mean values, it also looks like there are many comments which are not labelled in any of the six categories."
      ]
    },
    {
      "cell_type": "code",
      "execution_count": null,
      "metadata": {
        "_cell_guid": "997cc605-71a0-4ceb-a64b-e3e44c172aea",
        "_uuid": "99f1db4864c5c538f2a925d7b6733bb4b1c68707",
        "id": "7uNDunAIPrFF",
        "outputId": "895646fc-9e6a-4c77-9204-6460f1068d7c"
      },
      "outputs": [
        {
          "data": {
            "text/plain": [
              "0"
            ]
          },
          "execution_count": 49,
          "metadata": {},
          "output_type": "execute_result"
        }
      ],
      "source": [
        "# check for any 'null' comment\n",
        "no_comment = train_df[train_df['comment_text'].isnull()]\n",
        "len(no_comment)"
      ]
    },
    {
      "cell_type": "code",
      "execution_count": null,
      "metadata": {
        "_cell_guid": "af5ba625-bd5d-4ad3-948b-5641b10d62fb",
        "_kg_hide-output": true,
        "_uuid": "964e57595bb6e87a47aa82557c9d63aae3c24bd0",
        "id": "4ODPzL0KPrFF",
        "outputId": "af474b81-fee2-4103-8459-0963172cdde5"
      },
      "outputs": [
        {
          "data": {
            "text/html": [
              "<div>\n",
              "<style scoped>\n",
              "    .dataframe tbody tr th:only-of-type {\n",
              "        vertical-align: middle;\n",
              "    }\n",
              "\n",
              "    .dataframe tbody tr th {\n",
              "        vertical-align: top;\n",
              "    }\n",
              "\n",
              "    .dataframe thead th {\n",
              "        text-align: right;\n",
              "    }\n",
              "</style>\n",
              "<table border=\"1\" class=\"dataframe\">\n",
              "  <thead>\n",
              "    <tr style=\"text-align: right;\">\n",
              "      <th></th>\n",
              "      <th>id</th>\n",
              "      <th>name</th>\n",
              "      <th>comment_text</th>\n",
              "    </tr>\n",
              "  </thead>\n",
              "  <tbody>\n",
              "    <tr>\n",
              "      <th>0</th>\n",
              "      <td>5988</td>\n",
              "      <td>Devika Anil</td>\n",
              "      <td>hello</td>\n",
              "    </tr>\n",
              "    <tr>\n",
              "      <th>1</th>\n",
              "      <td>8517</td>\n",
              "      <td>Devika Anil</td>\n",
              "      <td>IMAGE</td>\n",
              "    </tr>\n",
              "    <tr>\n",
              "      <th>2</th>\n",
              "      <td>9563</td>\n",
              "      <td>Devika Anil</td>\n",
              "      <td>you are a faggot</td>\n",
              "    </tr>\n",
              "    <tr>\n",
              "      <th>3</th>\n",
              "      <td>307</td>\n",
              "      <td>Devika Anil</td>\n",
              "      <td>I'm going to kill you in your sleep</td>\n",
              "    </tr>\n",
              "    <tr>\n",
              "      <th>4</th>\n",
              "      <td>6712</td>\n",
              "      <td>Devika Anil</td>\n",
              "      <td>Fuck you</td>\n",
              "    </tr>\n",
              "  </tbody>\n",
              "</table>\n",
              "</div>"
            ],
            "text/plain": [
              "     id         name                         comment_text\n",
              "0  5988  Devika Anil                                hello\n",
              "1  8517  Devika Anil                                IMAGE\n",
              "2  9563  Devika Anil                    you are a faggot \n",
              "3   307  Devika Anil  I'm going to kill you in your sleep\n",
              "4  6712  Devika Anil                            Fuck you "
            ]
          },
          "execution_count": 50,
          "metadata": {},
          "output_type": "execute_result"
        }
      ],
      "source": [
        "test_df.head()"
      ]
    },
    {
      "cell_type": "code",
      "execution_count": null,
      "metadata": {
        "_cell_guid": "6bd65c22-9c8a-4756-a7bf-16187a6044d1",
        "_uuid": "c616bcb0dcf611679dcb5009def9d71d6727cd0e",
        "id": "3PCZfI4bPrFF",
        "outputId": "63787506-7bb4-40c0-d143-84222aebc6c1"
      },
      "outputs": [
        {
          "data": {
            "text/html": [
              "<div>\n",
              "<style scoped>\n",
              "    .dataframe tbody tr th:only-of-type {\n",
              "        vertical-align: middle;\n",
              "    }\n",
              "\n",
              "    .dataframe tbody tr th {\n",
              "        vertical-align: top;\n",
              "    }\n",
              "\n",
              "    .dataframe thead th {\n",
              "        text-align: right;\n",
              "    }\n",
              "</style>\n",
              "<table border=\"1\" class=\"dataframe\">\n",
              "  <thead>\n",
              "    <tr style=\"text-align: right;\">\n",
              "      <th></th>\n",
              "      <th>id</th>\n",
              "      <th>name</th>\n",
              "      <th>comment_text</th>\n",
              "    </tr>\n",
              "  </thead>\n",
              "  <tbody>\n",
              "  </tbody>\n",
              "</table>\n",
              "</div>"
            ],
            "text/plain": [
              "Empty DataFrame\n",
              "Columns: [id, name, comment_text]\n",
              "Index: []"
            ]
          },
          "execution_count": 51,
          "metadata": {},
          "output_type": "execute_result"
        }
      ],
      "source": [
        "no_comment = test_df[test_df['comment_text'].isnull()]\n",
        "no_comment"
      ]
    },
    {
      "cell_type": "markdown",
      "metadata": {
        "_cell_guid": "ecce8833-b5b4-40b4-a164-015b7380b8b1",
        "_uuid": "ad7f31ff8035dc60d37c8070f8bbaa9e7afac32f",
        "id": "7NZdWyRcPrFF"
      },
      "source": [
        "All rows in the training and test data contain comments, so there's no need to clean up null fields."
      ]
    },
    {
      "cell_type": "code",
      "execution_count": null,
      "metadata": {
        "_cell_guid": "b3dcbd9f-dbb8-4a5a-96b2-b93882516e27",
        "_uuid": "e497fc6688e16602e3f49a11939f32324d295a8d",
        "id": "fhUjn0K5PrFF",
        "outputId": "828cc626-dcb6-4c5c-b347-df55719e1fb0"
      },
      "outputs": [
        {
          "name": "stdout",
          "output_type": "stream",
          "text": [
            "Total rows in test is 12\n",
            "Total rows in train is 159571\n",
            "obscene           8449\n",
            "insult            7877\n",
            "toxic            15294\n",
            "severe_toxic      1595\n",
            "identity_hate     1405\n",
            "threat             478\n",
            "dtype: int64\n"
          ]
        }
      ],
      "source": [
        "# let's see the total rows in train, test data and the numbers for the various categories\n",
        "print('Total rows in test is {}'.format(len(test_df)))\n",
        "print('Total rows in train is {}'.format(len(train_df)))\n",
        "print(train_df[cols_target].sum())"
      ]
    },
    {
      "cell_type": "markdown",
      "metadata": {
        "_cell_guid": "981dff09-3acf-4014-b38a-22afc02a6654",
        "_uuid": "2ff9ed83ba328872d446add97695285dc49f4165",
        "collapsed": true,
        "id": "rs3Sgsm-PrFG"
      },
      "source": [
        "As mentioned earlier, majority of the comments in the training data are not labelled in one or more of these categories."
      ]
    },
    {
      "cell_type": "code",
      "execution_count": null,
      "metadata": {
        "_cell_guid": "b26588a7-9a7f-4183-98b2-fb94a70bedaa",
        "_uuid": "1e97432af65b6b75b436daabc83bdf57775a59c1",
        "id": "JuK2Zd0gPrFG"
      },
      "outputs": [],
      "source": [
        "# Let's look at the character length for the rows in the training data and record these\n",
        "train_df['char_length'] = train_df['comment_text'].apply(lambda x: len(str(x)))"
      ]
    },
    {
      "cell_type": "code",
      "execution_count": null,
      "metadata": {
        "_cell_guid": "d5ac5111-5bba-44c9-a039-7bb01a5bfd59",
        "_uuid": "448c3492fc2fe24f30bd7b97047d69f16b58ca2f",
        "scrolled": true,
        "id": "SBhwY_GmPrFG",
        "outputId": "81a17405-04f7-499f-c19b-2b8de23f7751"
      },
      "outputs": [
        {
          "data": {
            "image/png": "[encoded data removed]",
            "text/plain": [
              "<matplotlib.figure.Figure at 0x1f4f0d58a58>"
            ]
          },
          "metadata": {},
          "output_type": "display_data"
        }
      ],
      "source": [
        "# look at the histogram plot for text length\n",
        "sns.set()\n",
        "train_df['char_length'].hist()\n",
        "plt.show()"
      ]
    },
    {
      "cell_type": "markdown",
      "metadata": {
        "_cell_guid": "5b482de7-5fd1-4ef7-b7b4-2abf84ebdc25",
        "_uuid": "d28a801b4057518f87e20c46a77f9dc8757ab944",
        "id": "eYSje97PPrFG"
      },
      "source": [
        "Most of the text length are within 500 characters, with some up to 5,000 characters long."
      ]
    },
    {
      "cell_type": "markdown",
      "metadata": {
        "_cell_guid": "f16a287f-27d4-4afa-82a1-dd441c2fd36c",
        "_uuid": "e1e0ecc1df6989b0ee73874f273f0dbbfc4c9d5e",
        "id": "O54t6g8nPrFG"
      },
      "source": [
        "Next, let's examine the correlations among the target variables."
      ]
    },
    {
      "cell_type": "code",
      "execution_count": null,
      "metadata": {
        "_cell_guid": "64164a2c-770f-469d-9020-e91714a9b2a8",
        "_uuid": "fab22b3f850c80a10d665ae43ee09b5107a79887",
        "id": "DjoKlWfsPrFG"
      },
      "outputs": [],
      "source": [
        "data = train_df[cols_target]"
      ]
    },
    {
      "cell_type": "code",
      "execution_count": null,
      "metadata": {
        "_cell_guid": "7fc7803b-a7f1-414d-84fa-d1d2201c8bb7",
        "_kg_hide-output": false,
        "_uuid": "58968a44d8fdb3b93ac57f1ca20f81ffb71d164f",
        "scrolled": true,
        "id": "3zJBsdaNPrFG",
        "outputId": "c828ac26-8312-4913-f866-5d6e668c9a4e"
      },
      "outputs": [
        {
          "data": {
            "text/plain": [
              "<matplotlib.axes._subplots.AxesSubplot at 0x1f4f0d62b00>"
            ]
          },
          "execution_count": 56,
          "metadata": {},
          "output_type": "execute_result"
        },
        {
          "data": {
            "image/png": "[encoded data removed]",
            "text/plain": [
              "<matplotlib.figure.Figure at 0x1f4f0d62e10>"
            ]
          },
          "metadata": {},
          "output_type": "display_data"
        }
      ],
      "source": [
        "colormap = plt.cm.plasma\n",
        "plt.figure(figsize=(7,7))\n",
        "plt.title('Correlation of features & targets',y=1.05,size=14)\n",
        "sns.heatmap(data.astype(float).corr(),linewidths=0.1,vmax=1.0,square=True,cmap=colormap,\n",
        "           linecolor='white',annot=True)"
      ]
    },
    {
      "cell_type": "markdown",
      "metadata": {
        "_cell_guid": "095fd031-32a0-400b-9357-af0c8f50dd6b",
        "_uuid": "4f9da9651b4e007088b19a06165d0727fb4f4e07",
        "id": "ihfkI_ZQPrFG"
      },
      "source": [
        "Indeed, it looks like some of the labels are higher correlated, e.g. insult-obscene has the highest at 0.74, followed by toxic-obscene and toxic-insult."
      ]
    },
    {
      "cell_type": "markdown",
      "metadata": {
        "_cell_guid": "caa00f5d-7e26-48cb-92b3-acc1f1de0aca",
        "_uuid": "b677d6a32b7b72e08ba3b46bce572a223db964de",
        "id": "isJKSwoDPrFG"
      },
      "source": [
        "What about the character length & distribution of the comment text in the test data?"
      ]
    },
    {
      "cell_type": "code",
      "execution_count": null,
      "metadata": {
        "_cell_guid": "0993d06b-495e-428a-933a-6ffec6bdcef3",
        "_uuid": "36e4d00a5afc15e6b04ffa1e79421396d051f614",
        "id": "69V9lwwaPrFG"
      },
      "outputs": [],
      "source": [
        "test_df['char_length'] = test_df['comment_text'].apply(lambda x: len(str(x)))"
      ]
    },
    {
      "cell_type": "code",
      "execution_count": null,
      "metadata": {
        "_cell_guid": "828b9990-d78e-46c7-b011-1c66e6e6be79",
        "_uuid": "1cc05875b88e54b5a1079eafc088207536dea2f3",
        "id": "CeRB3RdFPrFG",
        "outputId": "4cbfdb89-8d4c-4375-c86c-c3454592ffa3"
      },
      "outputs": [
        {
          "data": {
            "image/png": "[encoded data removed]",
            "text/plain": [
              "<matplotlib.figure.Figure at 0x1f4f0d5acf8>"
            ]
          },
          "metadata": {},
          "output_type": "display_data"
        }
      ],
      "source": [
        "plt.figure()\n",
        "plt.hist(test_df['char_length'])\n",
        "plt.show()"
      ]
    },
    {
      "cell_type": "markdown",
      "metadata": {
        "_cell_guid": "b2bbf246-f098-425a-99e3-2eb2126b975c",
        "_uuid": "db69eb685cd1be44de2224c399cbdeabb5ceaa06",
        "id": "lkEMp7JWPrFG"
      },
      "source": [
        "Now, the shape of character length distribution looks similar between the training data and the train data. For the training data, I guess the train data were clipped to 5,000 characters to facilitate the folks who did the labelling of the comment categories."
      ]
    },
    {
      "cell_type": "markdown",
      "metadata": {
        "_cell_guid": "fdf9d2f6-d248-452f-8f94-562755e3a3f3",
        "_uuid": "d88d9cea99dbd77e81a5b3c4b9309df88b04550b",
        "id": "vVnMLD_HPrFG"
      },
      "source": [
        "## Clean up the comment text"
      ]
    },
    {
      "cell_type": "code",
      "execution_count": null,
      "metadata": {
        "_cell_guid": "24392feb-0adc-4e27-bd20-41ed8cadce37",
        "_uuid": "b42586552d4cdc79793b0de8e630f863f2b2c456",
        "id": "Hn5XucU5PrFG"
      },
      "outputs": [],
      "source": [
        "def clean_text(text):\n",
        "    text = text.lower()\n",
        "    text = re.sub(r\"what's\", \"what is \", text)\n",
        "    text = re.sub(r\"\\'s\", \" \", text)\n",
        "    text = re.sub(r\"\\'ve\", \" have \", text)\n",
        "    text = re.sub(r\"can't\", \"cannot \", text)\n",
        "    text = re.sub(r\"n't\", \" not \", text)\n",
        "    text = re.sub(r\"i'm\", \"i am \", text)\n",
        "    text = re.sub(r\"\\'re\", \" are \", text)\n",
        "    text = re.sub(r\"\\'d\", \" would \", text)\n",
        "    text = re.sub(r\"\\'ll\", \" will \", text)\n",
        "    text = re.sub(r\"\\'scuse\", \" excuse \", text)\n",
        "    text = re.sub('\\W', ' ', text)\n",
        "    text = re.sub('\\s+', ' ', text)\n",
        "    text = text.strip(' ')\n",
        "    return text"
      ]
    },
    {
      "cell_type": "code",
      "execution_count": null,
      "metadata": {
        "_cell_guid": "ec11fdb5-22a8-4889-9a8d-c83d4179a0cf",
        "_kg_hide-output": false,
        "_uuid": "e67944653b23b6267fdb0634c03a5b8702ae6d26",
        "id": "e-428SeWPrFG"
      },
      "outputs": [],
      "source": [
        "# clean the comment_text in train_df\n",
        "cleaned_train_comment = []\n",
        "for i in range(0,len(train_df)):\n",
        "    cleaned_comment = clean_text(train_df['comment_text'][i])\n",
        "    cleaned_train_comment.append(cleaned_comment)\n",
        "train_df['comment_text'] = pd.Series(cleaned_train_comment).astype(str)"
      ]
    },
    {
      "cell_type": "code",
      "execution_count": null,
      "metadata": {
        "_cell_guid": "5292f0f4-cdaf-4e9e-88f4-28efc3aa224d",
        "_uuid": "3ed1fff4601eb381b0c9f2da0dddef0453b248d3",
        "id": "6K1VFUFMPrFH"
      },
      "outputs": [],
      "source": [
        "# clean the comment_text in test_df\n",
        "cleaned_test_comment = []\n",
        "for i in range(0,len(test_df)):\n",
        "    cleaned_comment = clean_text(test_df['comment_text'][i])\n",
        "    cleaned_test_comment.append(cleaned_comment)\n",
        "test_df['comment_text'] = pd.Series(cleaned_test_comment).astype(str)"
      ]
    },
    {
      "cell_type": "markdown",
      "metadata": {
        "_cell_guid": "f5abe72a-13a7-41f6-ae8e-1c34dca97110",
        "_uuid": "cae81f6b1d9bb475fc486d5fbb81981025cc3672",
        "id": "LQAMREgxPrFH"
      },
      "source": [
        "\n",
        "## Define X from entire train & test data for use in tokenization by Vectorizer"
      ]
    },
    {
      "cell_type": "code",
      "execution_count": null,
      "metadata": {
        "_cell_guid": "30bf94de-36aa-4e8d-8d12-64172d8dc446",
        "_uuid": "b15dba3906f67e764af0a627e46d7b7e486888c5",
        "id": "ik-_Or8FPrFH"
      },
      "outputs": [],
      "source": [
        "train_df = train_df.drop('char_length',axis=1)"
      ]
    },
    {
      "cell_type": "code",
      "execution_count": null,
      "metadata": {
        "_cell_guid": "49547fd7-9633-4f6a-bd46-84d8966f1e8b",
        "_uuid": "061d59552c6ef83bea8ecf9ffbf203286aeab6f8",
        "id": "XyPCnN6FPrFH"
      },
      "outputs": [],
      "source": [
        "X = train_df.comment_text\n",
        "test_X = test_df.comment_text"
      ]
    },
    {
      "cell_type": "code",
      "execution_count": null,
      "metadata": {
        "_cell_guid": "083686b8-483a-4fbd-8584-cb9da8357c57",
        "_uuid": "6b1e91df6163a437c5f55e9c4de88dc11a89e5ba",
        "id": "3nrFZ8yvPrFH",
        "outputId": "89e2c749-3d21-4e06-dcc0-8433e5669243"
      },
      "outputs": [
        {
          "name": "stdout",
          "output_type": "stream",
          "text": [
            "(159571,) (153164,)\n"
          ]
        }
      ],
      "source": [
        "print(X.shape, test_X.shape)"
      ]
    },
    {
      "cell_type": "markdown",
      "metadata": {
        "_cell_guid": "b2d898ae-79bc-48b8-8544-fb077f876c67",
        "_uuid": "cc4c2aeef221f5a97e1bd5ea1154052172175351",
        "id": "87T2ir8mPrFH"
      },
      "source": [
        "## Vectorize the data"
      ]
    },
    {
      "cell_type": "code",
      "execution_count": null,
      "metadata": {
        "_cell_guid": "9be5a4f2-0e85-4f9a-ac00-b8e9916116cb",
        "_uuid": "7b7adf15d16408eb99689884906d0d687c2f8407",
        "id": "oNBHd_8IPrFH",
        "outputId": "17533431-4286-4c53-82dc-57997dc2a5ad"
      },
      "outputs": [
        {
          "data": {
            "text/plain": [
              "TfidfVectorizer(analyzer='word', binary=False, decode_error='strict',\n",
              "        dtype=<class 'numpy.int64'>, encoding='utf-8', input='content',\n",
              "        lowercase=True, max_df=1.0, max_features=5000, min_df=1,\n",
              "        ngram_range=(1, 1), norm='l2', preprocessor=None, smooth_idf=True,\n",
              "        stop_words='english', strip_accents=None, sublinear_tf=False,\n",
              "        token_pattern='(?u)\\\\b\\\\w\\\\w+\\\\b', tokenizer=None, use_idf=True,\n",
              "        vocabulary=None)"
            ]
          },
          "execution_count": 22,
          "metadata": {},
          "output_type": "execute_result"
        }
      ],
      "source": [
        "# import and instantiate TfidfVectorizer\n",
        "from sklearn.feature_extraction.text import CountVectorizer\n",
        "from sklearn.feature_extraction.text import TfidfVectorizer\n",
        "vect = TfidfVectorizer(max_features=5000,stop_words='english')\n",
        "vect"
      ]
    },
    {
      "cell_type": "code",
      "execution_count": null,
      "metadata": {
        "_cell_guid": "283c1d48-c267-431b-834e-37c8d9222b3c",
        "_uuid": "b755b1d4db58eeb5b0ab668d1aaf4a651d3de441",
        "id": "v_y3Vbe4PrFH",
        "outputId": "c8149dbf-4ee5-4728-f35f-315494da30d8"
      },
      "outputs": [
        {
          "data": {
            "text/plain": [
              "<159571x5000 sparse matrix of type '<class 'numpy.float64'>'\n",
              "\twith 3178792 stored elements in Compressed Sparse Row format>"
            ]
          },
          "execution_count": 23,
          "metadata": {},
          "output_type": "execute_result"
        }
      ],
      "source": [
        "# learn the vocabulary in the training data, then use it to create a document-term matrix\n",
        "X_dtm = vect.fit_transform(X)\n",
        "# examine the document-term matrix created from X_train\n",
        "X_dtm"
      ]
    },
    {
      "cell_type": "code",
      "execution_count": null,
      "metadata": {
        "_cell_guid": "54050711-560a-47cf-b4f9-2fbaf59bc2e4",
        "_uuid": "408301ccb78e3f4056a6d2ebbd239594d1a59da0",
        "id": "dWajKjt9PrFH",
        "outputId": "371bbbc9-6165-42ef-f19b-66e01fbf3539"
      },
      "outputs": [
        {
          "data": {
            "text/plain": [
              "<153164x5000 sparse matrix of type '<class 'numpy.float64'>'\n",
              "\twith 2618972 stored elements in Compressed Sparse Row format>"
            ]
          },
          "execution_count": 24,
          "metadata": {},
          "output_type": "execute_result"
        }
      ],
      "source": [
        "# transform the test data using the earlier fitted vocabulary, into a document-term matrix\n",
        "test_X_dtm = vect.transform(test_X)\n",
        "# examine the document-term matrix from X_test\n",
        "test_X_dtm"
      ]
    },
    {
      "cell_type": "markdown",
      "metadata": {
        "_cell_guid": "c84eb9f4-4fa5-418c-883c-9d9316092db0",
        "_uuid": "98a540b42db71f1639d47f31d2a4ea851aa1b9e5",
        "id": "2eN_XBz7PrFI"
      },
      "source": [
        "## Solving a multi-label classification problem\n",
        "One way to approach a multi-label classification problem is to transform the problem into separate single-class classifier problems. This is known as 'problem transformation'. There are three methods:\n",
        "* _**Binary Relevance.**_ This is probably the simplest which treats each label as a separate single classification problems. The key assumption here though, is that there are no correlation among the various labels.\n",
        "* _**Classifier Chains.**_ In this method, the first classifier is trained on the input X. Then the subsequent classifiers are trained on the input X and all previous classifiers' predictions in the chain. This method attempts to draw the signals from the correlation among preceding target variables.\n",
        "* _**Label Powerset.**_ This method transforms the problem into a multi-class problem  where the multi-class labels are essentially all the unique label combinations. In our case here, where there are six labels, Label Powerset would in effect turn this into a 2^6 or 64-class problem. {Thanks Joshua for pointing out.}"
      ]
    },
    {
      "cell_type": "markdown",
      "metadata": {
        "_cell_guid": "7abd771a-b0f3-47bc-b4ff-13a78aff48e7",
        "_uuid": "389245398dce9573dfa0f7c2facd2849d2174f1f",
        "id": "I2T48BNMPrFI"
      },
      "source": [
        "## Binary Relevance - build a multi-label classifier using Logistic Regression"
      ]
    },
    {
      "cell_type": "code",
      "execution_count": null,
      "metadata": {
        "_cell_guid": "e30be87f-e0a6-4fd7-bff2-b3c37737cbfe",
        "_uuid": "e7e5707b19c35c8371a0cff7351bc8aadc33acd1",
        "id": "movcniFFPrFI",
        "outputId": "233f0309-d45f-48b3-895a-225ea015d6e3"
      },
      "outputs": [
        {
          "name": "stdout",
          "output_type": "stream",
          "text": [
            "... Processing obscene\n",
            "Training accuracy is 0.9832300355327722\n",
            "... Processing insult\n",
            "Training accuracy is 0.9755469352200588\n",
            "... Processing toxic\n",
            "Training accuracy is 0.9639846839337975\n",
            "... Processing severe_toxic\n",
            "Training accuracy is 0.9920724943755445\n",
            "... Processing identity_hate\n",
            "Training accuracy is 0.9939713356436947\n",
            "... Processing threat\n",
            "Training accuracy is 0.9981199591404453\n"
          ]
        }
      ],
      "source": [
        "# import and instantiate the Logistic Regression model\n",
        "from sklearn.linear_model import LogisticRegression\n",
        "from sklearn.metrics import accuracy_score\n",
        "logreg = LogisticRegression(C=12.0)\n",
        "\n",
        "# create submission file\n",
        "submission_binary = pd.read_csv('../inputs/sample_submission.csv')\n",
        "\n",
        "for label in cols_target:\n",
        "    print('... Processing {}'.format(label))\n",
        "    y = train_df[label]\n",
        "    # train the model using X_dtm & y\n",
        "    logreg.fit(X_dtm, y)\n",
        "    # compute the training accuracy\n",
        "    y_pred_X = logreg.predict(X_dtm)\n",
        "    print('Training accuracy is {}'.format(accuracy_score(y, y_pred_X)))\n",
        "    # compute the predicted probabilities for X_test_dtm\n",
        "    test_y_prob = logreg.predict_proba(test_X_dtm)[:,1]\n",
        "    submission_binary[label] = test_y_prob"
      ]
    },
    {
      "cell_type": "markdown",
      "metadata": {
        "_cell_guid": "5d0970eb-bc44-4fad-91b7-e2a23c2f986d",
        "_uuid": "ee6d942b861235107e0d94174a8d21c2bad0e9ea",
        "id": "_SJ8Rb83PrFI"
      },
      "source": [
        "### Create submission file"
      ]
    },
    {
      "cell_type": "code",
      "execution_count": null,
      "metadata": {
        "_cell_guid": "a2816552-c314-4584-ad49-8464e80b1b29",
        "_uuid": "b89e22016a7b4f282940dc23253cbf343c1fbf83",
        "id": "x3bzCRDZPrFI",
        "outputId": "06cb2a25-530b-443a-ca55-3764775569e7"
      },
      "outputs": [
        {
          "data": {
            "text/html": [
              "<div>\n",
              "<style scoped>\n",
              "    .dataframe tbody tr th:only-of-type {\n",
              "        vertical-align: middle;\n",
              "    }\n",
              "\n",
              "    .dataframe tbody tr th {\n",
              "        vertical-align: top;\n",
              "    }\n",
              "\n",
              "    .dataframe thead th {\n",
              "        text-align: right;\n",
              "    }\n",
              "</style>\n",
              "<table border=\"1\" class=\"dataframe\">\n",
              "  <thead>\n",
              "    <tr style=\"text-align: right;\">\n",
              "      <th></th>\n",
              "      <th>id</th>\n",
              "      <th>toxic</th>\n",
              "      <th>severe_toxic</th>\n",
              "      <th>obscene</th>\n",
              "      <th>threat</th>\n",
              "      <th>insult</th>\n",
              "      <th>identity_hate</th>\n",
              "    </tr>\n",
              "  </thead>\n",
              "  <tbody>\n",
              "    <tr>\n",
              "      <th>0</th>\n",
              "      <td>00001cee341fdb12</td>\n",
              "      <td>0.999956</td>\n",
              "      <td>0.463380</td>\n",
              "      <td>0.999965</td>\n",
              "      <td>0.050203</td>\n",
              "      <td>0.971122</td>\n",
              "      <td>0.431323</td>\n",
              "    </tr>\n",
              "    <tr>\n",
              "      <th>1</th>\n",
              "      <td>0000247867823ef7</td>\n",
              "      <td>0.002395</td>\n",
              "      <td>0.000431</td>\n",
              "      <td>0.000401</td>\n",
              "      <td>0.000329</td>\n",
              "      <td>0.003284</td>\n",
              "      <td>0.000396</td>\n",
              "    </tr>\n",
              "    <tr>\n",
              "      <th>2</th>\n",
              "      <td>00013b17ad220c46</td>\n",
              "      <td>0.011101</td>\n",
              "      <td>0.000119</td>\n",
              "      <td>0.003185</td>\n",
              "      <td>0.000035</td>\n",
              "      <td>0.007277</td>\n",
              "      <td>0.001253</td>\n",
              "    </tr>\n",
              "    <tr>\n",
              "      <th>3</th>\n",
              "      <td>00017563c3f7919a</td>\n",
              "      <td>0.001327</td>\n",
              "      <td>0.002130</td>\n",
              "      <td>0.000965</td>\n",
              "      <td>0.000117</td>\n",
              "      <td>0.000872</td>\n",
              "      <td>0.000033</td>\n",
              "    </tr>\n",
              "    <tr>\n",
              "      <th>4</th>\n",
              "      <td>00017695ad8997eb</td>\n",
              "      <td>0.019301</td>\n",
              "      <td>0.000834</td>\n",
              "      <td>0.001252</td>\n",
              "      <td>0.000607</td>\n",
              "      <td>0.003282</td>\n",
              "      <td>0.000567</td>\n",
              "    </tr>\n",
              "  </tbody>\n",
              "</table>\n",
              "</div>"
            ],
            "text/plain": [
              "                 id     toxic  severe_toxic   obscene    threat    insult  \\\n",
              "0  00001cee341fdb12  0.999956      0.463380  0.999965  0.050203  0.971122   \n",
              "1  0000247867823ef7  0.002395      0.000431  0.000401  0.000329  0.003284   \n",
              "2  00013b17ad220c46  0.011101      0.000119  0.003185  0.000035  0.007277   \n",
              "3  00017563c3f7919a  0.001327      0.002130  0.000965  0.000117  0.000872   \n",
              "4  00017695ad8997eb  0.019301      0.000834  0.001252  0.000607  0.003282   \n",
              "\n",
              "   identity_hate  \n",
              "0       0.431323  \n",
              "1       0.000396  \n",
              "2       0.001253  \n",
              "3       0.000033  \n",
              "4       0.000567  "
            ]
          },
          "execution_count": 27,
          "metadata": {},
          "output_type": "execute_result"
        }
      ],
      "source": [
        "submission_binary.head()"
      ]
    },
    {
      "cell_type": "code",
      "execution_count": null,
      "metadata": {
        "_cell_guid": "fb1bef7d-586e-437d-a1d3-b0868e7ac321",
        "_uuid": "75d9571cc77eb1805d897af6ca0d86fd28405c6d",
        "id": "_hOGD0QuPrFI"
      },
      "outputs": [],
      "source": [
        "# generate submission file\n",
        "submission_binary.to_csv('../inputs/submission_binary.csv',index=False)"
      ]
    },
    {
      "cell_type": "markdown",
      "metadata": {
        "_cell_guid": "be8c8e90-f798-46d8-b77c-cd0668292646",
        "_uuid": "18644d484121f3bab7a06207bd7fa739b15feff5",
        "id": "DnIjSM9KPrFI"
      },
      "source": [
        "#### Binary Relevance with Logistic Regression classifier scored 0.074 on the public leaderboard."
      ]
    },
    {
      "cell_type": "markdown",
      "metadata": {
        "_cell_guid": "5018c7ea-dd27-4d4c-b9ad-ef2140c773e5",
        "_uuid": "0393cd387f508609c0d068c68fb7dbb0be659383",
        "id": "JNtIpJUCPrFI"
      },
      "source": [
        "## Classifier Chains - build a multi-label classifier using Logistic Regression"
      ]
    },
    {
      "cell_type": "code",
      "execution_count": null,
      "metadata": {
        "_cell_guid": "b2172222-42b8-4f0a-8d20-160d52af6f62",
        "_uuid": "f1b4fea94c83661d7bbad5c6bc7a5994643128e2",
        "id": "1TshsDVsPrFI"
      },
      "outputs": [],
      "source": [
        "# create submission file\n",
        "submission_chains = pd.read_csv('../inputs/sample_submission.csv')\n",
        "\n",
        "# create a function to add features\n",
        "def add_feature(X, feature_to_add):\n",
        "    '''\n",
        "    Returns sparse feature matrix with added feature.\n",
        "    feature_to_add can also be a list of features.\n",
        "    '''\n",
        "    from scipy.sparse import csr_matrix, hstack\n",
        "    return hstack([X, csr_matrix(feature_to_add).T], 'csr')"
      ]
    },
    {
      "cell_type": "code",
      "execution_count": null,
      "metadata": {
        "_cell_guid": "20c3ff4a-8925-4c78-a8f1-74f080f0b890",
        "_uuid": "3cdc6de563643c7a86f0c54ecff2f720695fe81d",
        "id": "bvCgpBHQPrFI",
        "outputId": "024a8b68-9bce-4fe3-a137-24520fc83bcc"
      },
      "outputs": [
        {
          "name": "stdout",
          "output_type": "stream",
          "text": [
            "... Processing obscene\n",
            "Training Accuracy is 0.9832300355327722\n",
            "Shape of X_dtm is now (159571, 5001)\n",
            "Shape of test_X_dtm is now (153164, 5001)\n",
            "... Processing insult\n",
            "Training Accuracy is 0.9819202737339492\n",
            "Shape of X_dtm is now (159571, 5002)\n",
            "Shape of test_X_dtm is now (153164, 5002)\n",
            "... Processing toxic\n",
            "Training Accuracy is 0.9676068959898728\n",
            "Shape of X_dtm is now (159571, 5003)\n",
            "Shape of test_X_dtm is now (153164, 5003)\n",
            "... Processing severe_toxic\n",
            "Training Accuracy is 0.9931065168482995\n",
            "Shape of X_dtm is now (159571, 5004)\n",
            "Shape of test_X_dtm is now (153164, 5004)\n",
            "... Processing identity_hate\n",
            "Training Accuracy is 0.9955819039800465\n",
            "Shape of X_dtm is now (159571, 5005)\n",
            "Shape of test_X_dtm is now (153164, 5005)\n",
            "... Processing threat\n",
            "Training Accuracy is 0.9985774357496037\n",
            "Shape of X_dtm is now (159571, 5006)\n",
            "Shape of test_X_dtm is now (153164, 5006)\n"
          ]
        }
      ],
      "source": [
        "for label in cols_target:\n",
        "    print('... Processing {}'.format(label))\n",
        "    y = train_df[label]\n",
        "    # train the model using X_dtm & y\n",
        "    logreg.fit(X_dtm,y)\n",
        "    # compute the training accuracy\n",
        "    y_pred_X = logreg.predict(X_dtm)\n",
        "    print('Training Accuracy is {}'.format(accuracy_score(y,y_pred_X)))\n",
        "    # make predictions from test_X\n",
        "    test_y = logreg.predict(test_X_dtm)\n",
        "    test_y_prob = logreg.predict_proba(test_X_dtm)[:,1]\n",
        "    submission_chains[label] = test_y_prob\n",
        "    # chain current label to X_dtm\n",
        "    X_dtm = add_feature(X_dtm, y)\n",
        "    print('Shape of X_dtm is now {}'.format(X_dtm.shape))\n",
        "    # chain current label predictions to test_X_dtm\n",
        "    test_X_dtm = add_feature(test_X_dtm, test_y)\n",
        "    print('Shape of test_X_dtm is now {}'.format(test_X_dtm.shape))"
      ]
    },
    {
      "cell_type": "markdown",
      "metadata": {
        "_cell_guid": "d917c9c5-5140-4b08-86b3-64e0b566bc1b",
        "_uuid": "a0be9c78f3facd8215c0d83c446dcef61af3fc43",
        "id": "u3k-k5EpPrFI"
      },
      "source": [
        "### Create submission file"
      ]
    },
    {
      "cell_type": "code",
      "execution_count": null,
      "metadata": {
        "_cell_guid": "4b7db16c-ca27-4fa8-933c-369711f60ea3",
        "_uuid": "f1d85021f64b145d28a55f65e0d3e806a6c91625",
        "id": "lW_qU2UyPrFI",
        "outputId": "18b9c87a-9392-4375-f70f-b2a6c68385f8"
      },
      "outputs": [
        {
          "data": {
            "text/html": [
              "<div>\n",
              "<style scoped>\n",
              "    .dataframe tbody tr th:only-of-type {\n",
              "        vertical-align: middle;\n",
              "    }\n",
              "\n",
              "    .dataframe tbody tr th {\n",
              "        vertical-align: top;\n",
              "    }\n",
              "\n",
              "    .dataframe thead th {\n",
              "        text-align: right;\n",
              "    }\n",
              "</style>\n",
              "<table border=\"1\" class=\"dataframe\">\n",
              "  <thead>\n",
              "    <tr style=\"text-align: right;\">\n",
              "      <th></th>\n",
              "      <th>id</th>\n",
              "      <th>toxic</th>\n",
              "      <th>severe_toxic</th>\n",
              "      <th>obscene</th>\n",
              "      <th>threat</th>\n",
              "      <th>insult</th>\n",
              "      <th>identity_hate</th>\n",
              "    </tr>\n",
              "  </thead>\n",
              "  <tbody>\n",
              "    <tr>\n",
              "      <th>0</th>\n",
              "      <td>00001cee341fdb12</td>\n",
              "      <td>0.999968</td>\n",
              "      <td>0.420012</td>\n",
              "      <td>0.999965</td>\n",
              "      <td>0.189226</td>\n",
              "      <td>0.900363</td>\n",
              "      <td>0.599430</td>\n",
              "    </tr>\n",
              "    <tr>\n",
              "      <th>1</th>\n",
              "      <td>0000247867823ef7</td>\n",
              "      <td>0.002540</td>\n",
              "      <td>0.000003</td>\n",
              "      <td>0.000401</td>\n",
              "      <td>0.000077</td>\n",
              "      <td>0.004424</td>\n",
              "      <td>0.000122</td>\n",
              "    </tr>\n",
              "    <tr>\n",
              "      <th>2</th>\n",
              "      <td>00013b17ad220c46</td>\n",
              "      <td>0.007937</td>\n",
              "      <td>0.000001</td>\n",
              "      <td>0.003185</td>\n",
              "      <td>0.000010</td>\n",
              "      <td>0.005202</td>\n",
              "      <td>0.000527</td>\n",
              "    </tr>\n",
              "    <tr>\n",
              "      <th>3</th>\n",
              "      <td>00017563c3f7919a</td>\n",
              "      <td>0.001175</td>\n",
              "      <td>0.000066</td>\n",
              "      <td>0.000965</td>\n",
              "      <td>0.000069</td>\n",
              "      <td>0.000635</td>\n",
              "      <td>0.000006</td>\n",
              "    </tr>\n",
              "    <tr>\n",
              "      <th>4</th>\n",
              "      <td>00017695ad8997eb</td>\n",
              "      <td>0.021178</td>\n",
              "      <td>0.000006</td>\n",
              "      <td>0.001252</td>\n",
              "      <td>0.000172</td>\n",
              "      <td>0.002019</td>\n",
              "      <td>0.000106</td>\n",
              "    </tr>\n",
              "  </tbody>\n",
              "</table>\n",
              "</div>"
            ],
            "text/plain": [
              "                 id     toxic  severe_toxic   obscene    threat    insult  \\\n",
              "0  00001cee341fdb12  0.999968      0.420012  0.999965  0.189226  0.900363   \n",
              "1  0000247867823ef7  0.002540      0.000003  0.000401  0.000077  0.004424   \n",
              "2  00013b17ad220c46  0.007937      0.000001  0.003185  0.000010  0.005202   \n",
              "3  00017563c3f7919a  0.001175      0.000066  0.000965  0.000069  0.000635   \n",
              "4  00017695ad8997eb  0.021178      0.000006  0.001252  0.000172  0.002019   \n",
              "\n",
              "   identity_hate  \n",
              "0       0.599430  \n",
              "1       0.000122  \n",
              "2       0.000527  \n",
              "3       0.000006  \n",
              "4       0.000106  "
            ]
          },
          "execution_count": 32,
          "metadata": {},
          "output_type": "execute_result"
        }
      ],
      "source": [
        "submission_chains.head()"
      ]
    },
    {
      "cell_type": "code",
      "execution_count": null,
      "metadata": {
        "_cell_guid": "3e1dfebe-ecb4-4a0e-958c-56a2d27e6a7d",
        "_uuid": "da35f9fd53f310366d0b760eb7573ae1b4e122c4",
        "id": "ZPQGn-wOPrFJ"
      },
      "outputs": [],
      "source": [
        "# generate submission file\n",
        "submission_chains.to_csv('../inputs/submission_chains.csv', index=False)"
      ]
    },
    {
      "cell_type": "markdown",
      "metadata": {
        "_cell_guid": "6f76bfb5-0ad1-42f3-8481-1dc6226a13b9",
        "_uuid": "ecdadaa139a91703da20aab1f5ee77b25023bab4",
        "id": "DeZ-tkdHPrFJ"
      },
      "source": [
        "## Create a combined submission"
      ]
    },
    {
      "cell_type": "code",
      "execution_count": null,
      "metadata": {
        "_cell_guid": "1a5fd709-81a7-4373-ad8a-45b61d4c1167",
        "_uuid": "b056f497fdcc13a46d5c83d988081dc2e5e99f1d",
        "id": "M4RcFH9oPrFJ"
      },
      "outputs": [],
      "source": [
        "# create submission file\n",
        "submission_combined = pd.read_csv('../inputs/sample_submission.csv')"
      ]
    },
    {
      "cell_type": "markdown",
      "metadata": {
        "_cell_guid": "62d78056-24e4-409c-a5dd-221b1c9f3b2b",
        "_uuid": "0bb5e1b109a8b043801e5b6360fb858e233a9f2c",
        "id": "spGLMgdlPrFJ"
      },
      "source": [
        "Combine using simple average from Binary Relevance and Classifier Chains."
      ]
    },
    {
      "cell_type": "code",
      "execution_count": null,
      "metadata": {
        "_cell_guid": "650d5945-f32f-49a9-b5ac-e932cf64e0dd",
        "_uuid": "81258bf73f51973d923f2695d81cb8523d21b4a0",
        "id": "7scmwwqNPrFJ"
      },
      "outputs": [],
      "source": [
        "# corr_targets = ['obscene','insult','toxic']\n",
        "for label in cols_target:\n",
        "    submission_combined[label] = 0.5*(submission_chains[label]+submission_binary[label])"
      ]
    },
    {
      "cell_type": "code",
      "execution_count": null,
      "metadata": {
        "_cell_guid": "3b7c66fd-d82e-46f1-bb41-004ed63c2569",
        "_uuid": "1aeb3dbed4d2af2e1125edc00d5d699e71745cf4",
        "id": "tKCdyvm7PrFJ",
        "outputId": "53b4b9d3-3f7c-47ba-8d88-4c6d3a80674c"
      },
      "outputs": [
        {
          "data": {
            "text/html": [
              "<div>\n",
              "<style scoped>\n",
              "    .dataframe tbody tr th:only-of-type {\n",
              "        vertical-align: middle;\n",
              "    }\n",
              "\n",
              "    .dataframe tbody tr th {\n",
              "        vertical-align: top;\n",
              "    }\n",
              "\n",
              "    .dataframe thead th {\n",
              "        text-align: right;\n",
              "    }\n",
              "</style>\n",
              "<table border=\"1\" class=\"dataframe\">\n",
              "  <thead>\n",
              "    <tr style=\"text-align: right;\">\n",
              "      <th></th>\n",
              "      <th>id</th>\n",
              "      <th>toxic</th>\n",
              "      <th>severe_toxic</th>\n",
              "      <th>obscene</th>\n",
              "      <th>threat</th>\n",
              "      <th>insult</th>\n",
              "      <th>identity_hate</th>\n",
              "    </tr>\n",
              "  </thead>\n",
              "  <tbody>\n",
              "    <tr>\n",
              "      <th>0</th>\n",
              "      <td>00001cee341fdb12</td>\n",
              "      <td>0.999962</td>\n",
              "      <td>0.441696</td>\n",
              "      <td>0.999965</td>\n",
              "      <td>0.119715</td>\n",
              "      <td>0.935742</td>\n",
              "      <td>0.515377</td>\n",
              "    </tr>\n",
              "    <tr>\n",
              "      <th>1</th>\n",
              "      <td>0000247867823ef7</td>\n",
              "      <td>0.002467</td>\n",
              "      <td>0.000217</td>\n",
              "      <td>0.000401</td>\n",
              "      <td>0.000203</td>\n",
              "      <td>0.003854</td>\n",
              "      <td>0.000259</td>\n",
              "    </tr>\n",
              "    <tr>\n",
              "      <th>2</th>\n",
              "      <td>00013b17ad220c46</td>\n",
              "      <td>0.009519</td>\n",
              "      <td>0.000060</td>\n",
              "      <td>0.003185</td>\n",
              "      <td>0.000023</td>\n",
              "      <td>0.006240</td>\n",
              "      <td>0.000890</td>\n",
              "    </tr>\n",
              "    <tr>\n",
              "      <th>3</th>\n",
              "      <td>00017563c3f7919a</td>\n",
              "      <td>0.001251</td>\n",
              "      <td>0.001098</td>\n",
              "      <td>0.000965</td>\n",
              "      <td>0.000093</td>\n",
              "      <td>0.000754</td>\n",
              "      <td>0.000020</td>\n",
              "    </tr>\n",
              "    <tr>\n",
              "      <th>4</th>\n",
              "      <td>00017695ad8997eb</td>\n",
              "      <td>0.020240</td>\n",
              "      <td>0.000420</td>\n",
              "      <td>0.001252</td>\n",
              "      <td>0.000389</td>\n",
              "      <td>0.002650</td>\n",
              "      <td>0.000336</td>\n",
              "    </tr>\n",
              "  </tbody>\n",
              "</table>\n",
              "</div>"
            ],
            "text/plain": [
              "                 id     toxic  severe_toxic   obscene    threat    insult  \\\n",
              "0  00001cee341fdb12  0.999962      0.441696  0.999965  0.119715  0.935742   \n",
              "1  0000247867823ef7  0.002467      0.000217  0.000401  0.000203  0.003854   \n",
              "2  00013b17ad220c46  0.009519      0.000060  0.003185  0.000023  0.006240   \n",
              "3  00017563c3f7919a  0.001251      0.001098  0.000965  0.000093  0.000754   \n",
              "4  00017695ad8997eb  0.020240      0.000420  0.001252  0.000389  0.002650   \n",
              "\n",
              "   identity_hate  \n",
              "0       0.515377  \n",
              "1       0.000259  \n",
              "2       0.000890  \n",
              "3       0.000020  \n",
              "4       0.000336  "
            ]
          },
          "execution_count": 37,
          "metadata": {},
          "output_type": "execute_result"
        }
      ],
      "source": [
        "submission_combined.head()"
      ]
    },
    {
      "cell_type": "code",
      "execution_count": null,
      "metadata": {
        "_cell_guid": "3af7d1e1-1d08-43b8-bdb1-0740dd4bdbbd",
        "_uuid": "eded1209e8bb777308d209c161d18c62c8a0c1ef",
        "id": "Y9ldrMuTPrFJ"
      },
      "outputs": [],
      "source": [
        "# generate submission file\n",
        "submission_combined.to_csv('../inputs/submission_combined.csv', index=False)"
      ]
    }
  ],
  "metadata": {
    "kernelspec": {
      "display_name": "Python 3",
      "language": "python",
      "name": "python3"
    },
    "language_info": {
      "codemirror_mode": {
        "name": "ipython",
        "version": 3
      },
      "file_extension": ".py",
      "mimetype": "text/x-python",
      "name": "python",
      "nbconvert_exporter": "python",
      "pygments_lexer": "ipython3",
      "version": "3.6.4"
    },
    "colab": {
      "provenance": [],
      "include_colab_link": true
    }
  },
  "nbformat": 4,
  "nbformat_minor": 0
}